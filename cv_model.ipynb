{
 "cells": [
  {
   "cell_type": "code",
   "execution_count": null,
   "metadata": {},
   "outputs": [],
   "source": [
    "from google.colab import files\n",
    "import caffe\n",
    "import numpy as np\n",
    "import cv2\n",
    "import os\n",
    "from pylab import imread,subplot,imshow,show\n",
    "import matplotlib.pyplot as plt\n",
    "\n",
    "MEAN_COLOR = np.array([92.8207477031, 95.2757037428, 104.877445883]).reshape((1, 3, 1, 1)) # BGR\n",
    "\n",
    "deploy = '../CrowdEstimation-model/CSRNet/CSRNet-caffe/models/deploy.prototxt'\n",
    "caffe_model = '/content/drive/ml/CSRNet-mx/models/shanghaib.caffemodel'\n",
    "\n",
    "nn = caffe.Net(deploy, caffe_model, caffe.TEST) \n",
    "\n",
    "def predict(imgs):\n",
    "    nn.blobs[\"data\"].reshape(*(imgs.shape))\n",
    "    nn.blobs[\"data\"].data[...] = imgs\n",
    "    nn.forward()\n",
    "    ps = nn.blobs[\"estdmap\"].data.sum((1,2,3))\n",
    "    return ps \n",
    "\n",
    "if __name__ == '__main__':\n",
    "    import os\n",
    "    def is_image_file(fname):\n",
    "        ext = os.path.splitext(fname)[-1].lower()\n",
    "        return ext == '.jpg'\n",
    "    data_path = '/content/drive/ml/CSRNet-mx/data/shanghaitech/part_B_final/test_data/'\n",
    "    image_names = list(filter(is_image_file, os.listdir(os.path.join(data_path, 'images'))))\n",
    "    image_paths = [os.path.join(data_path, 'images', e) for e in image_names]\n",
    "\n",
    "    fout = open('predict.txt', 'w')\n",
    "    num_images = len(image_names)\n",
    "    for i, fname in enumerate(image_paths):\n",
    "        img_name = image_names[i]\n",
    "        im = cv2.imread(fname)\n",
    "        rows, cols, ts = im.shape\n",
    "        imgs = im.transpose((2,0,1)).reshape((1, 3, rows, cols)) - MEAN_COLOR\n",
    "        plt.imshow(im)        \n",
    "        plt.savefig(fname,format='png',bbox_inches=None, pad_inches=0.1,frameon=None)\n",
    "        plt.show()\n",
    "        ps = predict(imgs)\n",
    "        p = ps[0]\n",
    "        print ('{}/{}: {} {}'.format(i + 1, num_images, img_name, p))\n",
    "        fout.write('{} {}\\n'.format(img_name, p))\n",
    "\n",
    "        i += 1"
   ]
  }
 ],
 "metadata": {
  "language_info": {
   "name": "python"
  }
 },
 "nbformat": 4,
 "nbformat_minor": 2
}
